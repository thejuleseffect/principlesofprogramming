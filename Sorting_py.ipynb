{
  "nbformat": 4,
  "nbformat_minor": 0,
  "metadata": {
    "colab": {
      "provenance": [],
      "authorship_tag": "ABX9TyPQUDzHexvPNFgv3xVfzAM5",
      "include_colab_link": true
    },
    "kernelspec": {
      "name": "python3",
      "display_name": "Python 3"
    },
    "language_info": {
      "name": "python"
    }
  },
  "cells": [
    {
      "cell_type": "markdown",
      "metadata": {
        "id": "view-in-github",
        "colab_type": "text"
      },
      "source": [
        "<a href=\"https://colab.research.google.com/github/thejuleseffect/principlesofprogramming/blob/main/Sorting_py.ipynb\" target=\"_parent\"><img src=\"https://colab.research.google.com/assets/colab-badge.svg\" alt=\"Open In Colab\"/></a>"
      ]
    },
    {
      "cell_type": "code",
      "execution_count": 1,
      "metadata": {
        "colab": {
          "base_uri": "https://localhost:8080/"
        },
        "id": "BuUYguRtCaUE",
        "outputId": "458ffaea-934c-4006-dae2-05160c0d73c5"
      },
      "outputs": [
        {
          "output_type": "stream",
          "name": "stdout",
          "text": [
            "[1, 3, 4, 5]\n",
            "[5, 1, 4, 3]\n"
          ]
        }
      ],
      "source": [
        "  a = [5, 1, 4, 3]\n",
        "  print(sorted(a))  ## [1, 3, 4, 5]\n",
        "  print(a)  ## [5, 1, 4, 3]"
      ]
    },
    {
      "cell_type": "code",
      "source": [
        "  strs = ['aa', 'BB', 'zz', 'CC']\n",
        "  print(sorted(strs))  ## ['BB', 'CC', 'aa', 'zz'] (case sensitive)\n",
        "  print(sorted(strs, reverse=True))   ## ['zz', 'aa', 'CC', 'BB']"
      ],
      "metadata": {
        "colab": {
          "base_uri": "https://localhost:8080/"
        },
        "id": "4zkVFmJ9Z9Gt",
        "outputId": "536c4ea8-8045-45fc-b09a-3b4735af8583"
      },
      "execution_count": 2,
      "outputs": [
        {
          "output_type": "stream",
          "name": "stdout",
          "text": [
            "['BB', 'CC', 'aa', 'zz']\n",
            "['zz', 'aa', 'CC', 'BB']\n"
          ]
        }
      ]
    },
    {
      "cell_type": "code",
      "source": [
        "  strs = ['ccc', 'aaaa', 'd', 'bb']\n",
        "  print(sorted(strs, key=len))  ## ['d', 'bb', 'ccc', 'aaaa']"
      ],
      "metadata": {
        "colab": {
          "base_uri": "https://localhost:8080/"
        },
        "id": "bmzU6qDCai2a",
        "outputId": "d3932a8d-bcbb-4b72-ae8c-529a5d859bbf"
      },
      "execution_count": 3,
      "outputs": [
        {
          "output_type": "stream",
          "name": "stdout",
          "text": [
            "['d', 'bb', 'ccc', 'aaaa']\n"
          ]
        }
      ]
    },
    {
      "cell_type": "code",
      "source": [
        "  ## \"key\" argument specifying str.lower function to use for sorting\n",
        "  print(sorted(strs, key=str.lower))  ## ['aa', 'BB', 'CC', 'zz']"
      ],
      "metadata": {
        "colab": {
          "base_uri": "https://localhost:8080/"
        },
        "id": "uYiGSpOAaz7B",
        "outputId": "24570675-9dcc-4919-95a2-5dd6f5514ea7"
      },
      "execution_count": 4,
      "outputs": [
        {
          "output_type": "stream",
          "name": "stdout",
          "text": [
            "['aaaa', 'bb', 'ccc', 'd']\n"
          ]
        }
      ]
    },
    {
      "cell_type": "code",
      "source": [
        "  ## Say we have a list of strings we want to sort by the last letter of the string.\n",
        "  strs = ['xc', 'zb', 'yd' ,'wa']\n",
        "\n",
        "  ## Write a little function that takes a string, and returns its last letter.\n",
        "  ## This will be the key function (takes in 1 value, returns 1 value).\n",
        "  def MyFn(s):\n",
        "    return s[-1]\n",
        "\n",
        "  ## Now pass key=MyFn to sorted() to sort by the last letter:\n",
        "  print(sorted(strs, key=MyFn))  ## ['wa', 'zb', 'xc', 'yd']"
      ],
      "metadata": {
        "colab": {
          "base_uri": "https://localhost:8080/"
        },
        "id": "KJKnC9nVbARY",
        "outputId": "9a0f2900-6264-472b-88f3-b0c514c22269"
      },
      "execution_count": 5,
      "outputs": [
        {
          "output_type": "stream",
          "name": "stdout",
          "text": [
            "['wa', 'zb', 'xc', 'yd']\n"
          ]
        }
      ]
    },
    {
      "cell_type": "code",
      "source": [
        "  from operator import itemgetter\n",
        "\n",
        "  # (first name, last name, score) tuples\n",
        "  grade = [('Freddy', 'Frank', 3), ('Anil', 'Frank', 100), ('Anil', 'Wang', 24)]\n",
        "  sorted(grade, key=itemgetter(1,0))\n",
        "  # [('Anil', 'Frank', 100), ('Freddy', 'Frank', 3), ('Anil', 'Wang', 24)]\n",
        "\n",
        "  sorted(grade, key=itemgetter(0,-1))\n",
        "  #[('Anil', 'Wang', 24), ('Anil', 'Frank', 100), ('Freddy', 'Frank', 3)]"
      ],
      "metadata": {
        "colab": {
          "base_uri": "https://localhost:8080/"
        },
        "id": "PCtSWk6cbFGN",
        "outputId": "e621a6b9-4948-4cf9-bd19-d951f3193886"
      },
      "execution_count": 6,
      "outputs": [
        {
          "output_type": "execute_result",
          "data": {
            "text/plain": [
              "[('Anil', 'Wang', 24), ('Anil', 'Frank', 100), ('Freddy', 'Frank', 3)]"
            ]
          },
          "metadata": {},
          "execution_count": 6
        }
      ]
    },
    {
      "cell_type": "code",
      "source": [
        "  alist.sort()            ## correct\n",
        "  alist = blist.sort()    ## Incorrect. sort() returns None"
      ],
      "metadata": {
        "colab": {
          "base_uri": "https://localhost:8080/",
          "height": 158
        },
        "id": "4IdMaaPXbS8e",
        "outputId": "b381e659-d17a-4db8-d059-1a26a2cc20bf"
      },
      "execution_count": 7,
      "outputs": [
        {
          "output_type": "error",
          "ename": "NameError",
          "evalue": "name 'alist' is not defined",
          "traceback": [
            "\u001b[0;31m---------------------------------------------------------------------------\u001b[0m",
            "\u001b[0;31mNameError\u001b[0m                                 Traceback (most recent call last)",
            "\u001b[0;32m<ipython-input-7-38636aec3af4>\u001b[0m in \u001b[0;36m<cell line: 0>\u001b[0;34m()\u001b[0m\n\u001b[0;32m----> 1\u001b[0;31m \u001b[0malist\u001b[0m\u001b[0;34m.\u001b[0m\u001b[0msort\u001b[0m\u001b[0;34m(\u001b[0m\u001b[0;34m)\u001b[0m            \u001b[0;31m## correct\u001b[0m\u001b[0;34m\u001b[0m\u001b[0;34m\u001b[0m\u001b[0m\n\u001b[0m\u001b[1;32m      2\u001b[0m \u001b[0malist\u001b[0m \u001b[0;34m=\u001b[0m \u001b[0mblist\u001b[0m\u001b[0;34m.\u001b[0m\u001b[0msort\u001b[0m\u001b[0;34m(\u001b[0m\u001b[0;34m)\u001b[0m    \u001b[0;31m## Incorrect. sort() returns None\u001b[0m\u001b[0;34m\u001b[0m\u001b[0;34m\u001b[0m\u001b[0m\n",
            "\u001b[0;31mNameError\u001b[0m: name 'alist' is not defined"
          ]
        }
      ]
    },
    {
      "cell_type": "code",
      "source": [
        "  tuple = (1, 2, 'hi')\n",
        "  print(len(tuple))  ## 3\n",
        "  print(tuple[2])    ## hi\n",
        "  tuple[2] = 'bye'  ## NO, tuples cannot be changed\n",
        "  tuple = (1, 2, 'bye')  ## this works"
      ],
      "metadata": {
        "colab": {
          "base_uri": "https://localhost:8080/",
          "height": 228
        },
        "id": "aukKwiv6bYXv",
        "outputId": "bcabd567-a5cb-485c-b06c-e313ff155088"
      },
      "execution_count": 8,
      "outputs": [
        {
          "output_type": "stream",
          "name": "stdout",
          "text": [
            "3\n",
            "hi\n"
          ]
        },
        {
          "output_type": "error",
          "ename": "TypeError",
          "evalue": "'tuple' object does not support item assignment",
          "traceback": [
            "\u001b[0;31m---------------------------------------------------------------------------\u001b[0m",
            "\u001b[0;31mTypeError\u001b[0m                                 Traceback (most recent call last)",
            "\u001b[0;32m<ipython-input-8-6b71a51c4376>\u001b[0m in \u001b[0;36m<cell line: 0>\u001b[0;34m()\u001b[0m\n\u001b[1;32m      2\u001b[0m \u001b[0mprint\u001b[0m\u001b[0;34m(\u001b[0m\u001b[0mlen\u001b[0m\u001b[0;34m(\u001b[0m\u001b[0mtuple\u001b[0m\u001b[0;34m)\u001b[0m\u001b[0;34m)\u001b[0m  \u001b[0;31m## 3\u001b[0m\u001b[0;34m\u001b[0m\u001b[0;34m\u001b[0m\u001b[0m\n\u001b[1;32m      3\u001b[0m \u001b[0mprint\u001b[0m\u001b[0;34m(\u001b[0m\u001b[0mtuple\u001b[0m\u001b[0;34m[\u001b[0m\u001b[0;36m2\u001b[0m\u001b[0;34m]\u001b[0m\u001b[0;34m)\u001b[0m    \u001b[0;31m## hi\u001b[0m\u001b[0;34m\u001b[0m\u001b[0;34m\u001b[0m\u001b[0m\n\u001b[0;32m----> 4\u001b[0;31m \u001b[0mtuple\u001b[0m\u001b[0;34m[\u001b[0m\u001b[0;36m2\u001b[0m\u001b[0;34m]\u001b[0m \u001b[0;34m=\u001b[0m \u001b[0;34m'bye'\u001b[0m  \u001b[0;31m## NO, tuples cannot be changed\u001b[0m\u001b[0;34m\u001b[0m\u001b[0;34m\u001b[0m\u001b[0m\n\u001b[0m\u001b[1;32m      5\u001b[0m \u001b[0mtuple\u001b[0m \u001b[0;34m=\u001b[0m \u001b[0;34m(\u001b[0m\u001b[0;36m1\u001b[0m\u001b[0;34m,\u001b[0m \u001b[0;36m2\u001b[0m\u001b[0;34m,\u001b[0m \u001b[0;34m'bye'\u001b[0m\u001b[0;34m)\u001b[0m  \u001b[0;31m## this works\u001b[0m\u001b[0;34m\u001b[0m\u001b[0;34m\u001b[0m\u001b[0m\n",
            "\u001b[0;31mTypeError\u001b[0m: 'tuple' object does not support item assignment"
          ]
        }
      ]
    },
    {
      "cell_type": "code",
      "source": [
        "  tuple = ('hi',)   ## size-1 tuple"
      ],
      "metadata": {
        "id": "rPdKuJPibx7D"
      },
      "execution_count": 9,
      "outputs": []
    },
    {
      "cell_type": "code",
      "source": [
        "  (x, y, z) = (42, 13, \"hike\")\n",
        "  print(z)  ## hike\n",
        "  (err_string, err_code) = Foo()  ## Foo() returns a length-2 tuple"
      ],
      "metadata": {
        "colab": {
          "base_uri": "https://localhost:8080/",
          "height": 193
        },
        "collapsed": true,
        "id": "SSxPi5C1b4GH",
        "outputId": "a7c88eb3-1118-4ad2-bde9-415d2afd9685"
      },
      "execution_count": 10,
      "outputs": [
        {
          "output_type": "stream",
          "name": "stdout",
          "text": [
            "hike\n"
          ]
        },
        {
          "output_type": "error",
          "ename": "NameError",
          "evalue": "name 'Foo' is not defined",
          "traceback": [
            "\u001b[0;31m---------------------------------------------------------------------------\u001b[0m",
            "\u001b[0;31mNameError\u001b[0m                                 Traceback (most recent call last)",
            "\u001b[0;32m<ipython-input-10-3d724331fa31>\u001b[0m in \u001b[0;36m<cell line: 0>\u001b[0;34m()\u001b[0m\n\u001b[1;32m      1\u001b[0m \u001b[0;34m(\u001b[0m\u001b[0mx\u001b[0m\u001b[0;34m,\u001b[0m \u001b[0my\u001b[0m\u001b[0;34m,\u001b[0m \u001b[0mz\u001b[0m\u001b[0;34m)\u001b[0m \u001b[0;34m=\u001b[0m \u001b[0;34m(\u001b[0m\u001b[0;36m42\u001b[0m\u001b[0;34m,\u001b[0m \u001b[0;36m13\u001b[0m\u001b[0;34m,\u001b[0m \u001b[0;34m\"hike\"\u001b[0m\u001b[0;34m)\u001b[0m\u001b[0;34m\u001b[0m\u001b[0;34m\u001b[0m\u001b[0m\n\u001b[1;32m      2\u001b[0m \u001b[0mprint\u001b[0m\u001b[0;34m(\u001b[0m\u001b[0mz\u001b[0m\u001b[0;34m)\u001b[0m  \u001b[0;31m## hike\u001b[0m\u001b[0;34m\u001b[0m\u001b[0;34m\u001b[0m\u001b[0m\n\u001b[0;32m----> 3\u001b[0;31m \u001b[0;34m(\u001b[0m\u001b[0merr_string\u001b[0m\u001b[0;34m,\u001b[0m \u001b[0merr_code\u001b[0m\u001b[0;34m)\u001b[0m \u001b[0;34m=\u001b[0m \u001b[0mFoo\u001b[0m\u001b[0;34m(\u001b[0m\u001b[0;34m)\u001b[0m  \u001b[0;31m## Foo() returns a length-2 tuple\u001b[0m\u001b[0;34m\u001b[0m\u001b[0;34m\u001b[0m\u001b[0m\n\u001b[0m",
            "\u001b[0;31mNameError\u001b[0m: name 'Foo' is not defined"
          ]
        }
      ]
    },
    {
      "cell_type": "code",
      "source": [
        "  nums = [1, 2, 3, 4]\n",
        "\n",
        "  squares = [ n * n for n in nums ]   ## [1, 4, 9, 16]"
      ],
      "metadata": {
        "id": "srsU51ZMcJYg"
      },
      "execution_count": 24,
      "outputs": []
    },
    {
      "cell_type": "code",
      "source": [
        "  strs = ['hello', 'and', 'goodbye']\n",
        "\n",
        "  shouting = [ s.upper() + '!!!' for s in strs ]\n",
        "  ## ['HELLO!!!', 'AND!!!', 'GOODBYE!!!']"
      ],
      "metadata": {
        "id": "03MnIXujcdGj"
      },
      "execution_count": 23,
      "outputs": []
    },
    {
      "cell_type": "code",
      "source": [
        "  ## Select values <= 2\n",
        "  nums = [2, 8, 1, 6]\n",
        "  small = [ n for n in nums if n <= 2 ]  ## [2, 1]\n",
        "\n",
        "  ## Select fruits containing 'a', change to upper case\n",
        "  fruits = ['apple', 'cherry', 'banana', 'lemon']\n",
        "  afruits = [ s.upper() for s in fruits if 'a' in s ]\n",
        "  ## ['APPLE', 'BANANA']"
      ],
      "metadata": {
        "id": "PdUnvqpncoQs"
      },
      "execution_count": 26,
      "outputs": []
    }
  ]
}