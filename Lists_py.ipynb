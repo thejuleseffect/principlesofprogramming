{
  "nbformat": 4,
  "nbformat_minor": 0,
  "metadata": {
    "colab": {
      "provenance": [],
      "toc_visible": true,
      "authorship_tag": "ABX9TyOj6nDuT3f6OO33c/ueIGYb",
      "include_colab_link": true
    },
    "kernelspec": {
      "name": "python3",
      "display_name": "Python 3"
    },
    "language_info": {
      "name": "python"
    }
  },
  "cells": [
    {
      "cell_type": "markdown",
      "metadata": {
        "id": "view-in-github",
        "colab_type": "text"
      },
      "source": [
        "<a href=\"https://colab.research.google.com/github/thejuleseffect/principlesofprogramming/blob/main/Lists_py.ipynb\" target=\"_parent\"><img src=\"https://colab.research.google.com/assets/colab-badge.svg\" alt=\"Open In Colab\"/></a>"
      ]
    },
    {
      "cell_type": "code",
      "source": [
        "  colors = ['red', 'blue', 'green']\n",
        "  print(colors[0])    ## red\n",
        "  print(colors[2])    ## green\n",
        "  print(len(colors))  ## 3"
      ],
      "metadata": {
        "id": "AKWHYnuYi-t2",
        "colab": {
          "base_uri": "https://localhost:8080/"
        },
        "collapsed": true,
        "outputId": "5ae1ff38-7a84-4842-cd32-219b3a7dfb7e"
      },
      "execution_count": null,
      "outputs": [
        {
          "output_type": "stream",
          "name": "stdout",
          "text": [
            "red\n",
            "green\n",
            "3\n"
          ]
        }
      ]
    },
    {
      "cell_type": "code",
      "source": [
        "  b = colors   ## Does not copy the list"
      ],
      "metadata": {
        "id": "psofgtMYjwVb"
      },
      "execution_count": null,
      "outputs": []
    },
    {
      "cell_type": "code",
      "source": [
        "  squares = [1, 4, 9, 16]\n",
        "  sum = 0\n",
        "  for num in squares:\n",
        "    sum += num\n",
        "  print(sum)  ## 30"
      ],
      "metadata": {
        "colab": {
          "base_uri": "https://localhost:8080/"
        },
        "id": "5EqaY-m3j_ne",
        "outputId": "92afb561-21e5-427f-efb9-b6bac48aa74e"
      },
      "execution_count": null,
      "outputs": [
        {
          "output_type": "stream",
          "name": "stdout",
          "text": [
            "30\n"
          ]
        }
      ]
    },
    {
      "cell_type": "code",
      "source": [
        "  list = ['larry', 'curly', 'moe']\n",
        "  if 'curly' in list:\n",
        "    print('yay') ## yay"
      ],
      "metadata": {
        "colab": {
          "base_uri": "https://localhost:8080/"
        },
        "id": "YBRKbHYNlAez",
        "outputId": "45453449-a553-4e67-c7a9-3d57dd6f4694"
      },
      "execution_count": null,
      "outputs": [
        {
          "output_type": "stream",
          "name": "stdout",
          "text": [
            "yay\n"
          ]
        }
      ]
    },
    {
      "cell_type": "code",
      "source": [
        "  ## print the numbers from 0 through 99\n",
        "  for i in range(100):\n",
        "    print(i)"
      ],
      "metadata": {
        "colab": {
          "base_uri": "https://localhost:8080/"
        },
        "collapsed": true,
        "id": "Qz4eNhIDlkHL",
        "outputId": "e05ebeae-8f2b-4cd3-8eb0-7108d9afa0e6"
      },
      "execution_count": null,
      "outputs": [
        {
          "output_type": "stream",
          "name": "stdout",
          "text": [
            "0\n",
            "1\n",
            "2\n",
            "3\n",
            "4\n",
            "5\n",
            "6\n",
            "7\n",
            "8\n",
            "9\n",
            "10\n",
            "11\n",
            "12\n",
            "13\n",
            "14\n",
            "15\n",
            "16\n",
            "17\n",
            "18\n",
            "19\n",
            "20\n",
            "21\n",
            "22\n",
            "23\n",
            "24\n",
            "25\n",
            "26\n",
            "27\n",
            "28\n",
            "29\n",
            "30\n",
            "31\n",
            "32\n",
            "33\n",
            "34\n",
            "35\n",
            "36\n",
            "37\n",
            "38\n",
            "39\n",
            "40\n",
            "41\n",
            "42\n",
            "43\n",
            "44\n",
            "45\n",
            "46\n",
            "47\n",
            "48\n",
            "49\n",
            "50\n",
            "51\n",
            "52\n",
            "53\n",
            "54\n",
            "55\n",
            "56\n",
            "57\n",
            "58\n",
            "59\n",
            "60\n",
            "61\n",
            "62\n",
            "63\n",
            "64\n",
            "65\n",
            "66\n",
            "67\n",
            "68\n",
            "69\n",
            "70\n",
            "71\n",
            "72\n",
            "73\n",
            "74\n",
            "75\n",
            "76\n",
            "77\n",
            "78\n",
            "79\n",
            "80\n",
            "81\n",
            "82\n",
            "83\n",
            "84\n",
            "85\n",
            "86\n",
            "87\n",
            "88\n",
            "89\n",
            "90\n",
            "91\n",
            "92\n",
            "93\n",
            "94\n",
            "95\n",
            "96\n",
            "97\n",
            "98\n",
            "99\n"
          ]
        }
      ]
    },
    {
      "cell_type": "code",
      "source": [
        "  ## Access every 3rd element in a list\n",
        "  i = 0\n",
        "  while i < len(a):\n",
        "    print(a[i])\n",
        "    i = i + 3 # When this block of code is run it prints out a NameError because name 'a' is not defined"
      ],
      "metadata": {
        "colab": {
          "base_uri": "https://localhost:8080/",
          "height": 210
        },
        "collapsed": true,
        "id": "6Wj93EsTl4TS",
        "outputId": "44ca06a2-3ee7-4b10-fd8f-1aa4b823aa2a"
      },
      "execution_count": null,
      "outputs": [
        {
          "output_type": "error",
          "ename": "NameError",
          "evalue": "name 'a' is not defined",
          "traceback": [
            "\u001b[0;31m---------------------------------------------------------------------------\u001b[0m",
            "\u001b[0;31mNameError\u001b[0m                                 Traceback (most recent call last)",
            "\u001b[0;32m<ipython-input-15-da0d4565a055>\u001b[0m in \u001b[0;36m<cell line: 0>\u001b[0;34m()\u001b[0m\n\u001b[1;32m      1\u001b[0m \u001b[0;31m## Access every 3rd element in a list\u001b[0m\u001b[0;34m\u001b[0m\u001b[0;34m\u001b[0m\u001b[0m\n\u001b[1;32m      2\u001b[0m \u001b[0mi\u001b[0m \u001b[0;34m=\u001b[0m \u001b[0;36m0\u001b[0m\u001b[0;34m\u001b[0m\u001b[0;34m\u001b[0m\u001b[0m\n\u001b[0;32m----> 3\u001b[0;31m \u001b[0;32mwhile\u001b[0m \u001b[0mi\u001b[0m \u001b[0;34m<\u001b[0m \u001b[0mlen\u001b[0m\u001b[0;34m(\u001b[0m\u001b[0ma\u001b[0m\u001b[0;34m)\u001b[0m\u001b[0;34m:\u001b[0m\u001b[0;34m\u001b[0m\u001b[0;34m\u001b[0m\u001b[0m\n\u001b[0m\u001b[1;32m      4\u001b[0m   \u001b[0mprint\u001b[0m\u001b[0;34m(\u001b[0m\u001b[0ma\u001b[0m\u001b[0;34m[\u001b[0m\u001b[0mi\u001b[0m\u001b[0;34m]\u001b[0m\u001b[0;34m)\u001b[0m\u001b[0;34m\u001b[0m\u001b[0;34m\u001b[0m\u001b[0m\n\u001b[1;32m      5\u001b[0m   \u001b[0mi\u001b[0m \u001b[0;34m=\u001b[0m \u001b[0mi\u001b[0m \u001b[0;34m+\u001b[0m \u001b[0;36m3\u001b[0m\u001b[0;34m\u001b[0m\u001b[0;34m\u001b[0m\u001b[0m\n",
            "\u001b[0;31mNameError\u001b[0m: name 'a' is not defined"
          ]
        }
      ]
    },
    {
      "cell_type": "code",
      "source": [
        "  list = ['larry', 'curly', 'moe']\n",
        "  list.append('shemp')         ## append elem at end\n",
        "  list.insert(0, 'xxx')        ## insert elem at index 0\n",
        "  list.extend(['yyy', 'zzz'])  ## add list of elems at end\n",
        "  print(list)  ## ['xxx', 'larry', 'curly', 'moe', 'shemp', 'yyy', 'zzz']\n",
        "  print(list.index('curly'))    ## 2\n",
        "\n",
        "  list.remove('curly')         ## search and remove that element\n",
        "  list.pop(1)                  ## removes and returns 'larry'\n",
        "  print(list)  ## ['xxx', 'moe', 'shemp', 'yyy', 'zzz']"
      ],
      "metadata": {
        "colab": {
          "base_uri": "https://localhost:8080/"
        },
        "id": "oCRw8RkOn3Sf",
        "outputId": "4624c6d5-b28b-47f8-dc15-fbd7ec8ca723"
      },
      "execution_count": null,
      "outputs": [
        {
          "output_type": "stream",
          "name": "stdout",
          "text": [
            "['xxx', 'larry', 'curly', 'moe', 'shemp', 'yyy', 'zzz']\n",
            "2\n",
            "['xxx', 'moe', 'shemp', 'yyy', 'zzz']\n"
          ]
        }
      ]
    },
    {
      "cell_type": "code",
      "source": [
        "  list = [1, 2, 3]\n",
        "  print(list.append(4))   ## NO, does not work, append() returns None\n",
        "  ## Correct pattern:\n",
        "  list.append(4)\n",
        "  print(list)  ## [1, 2, 3, 4]"
      ],
      "metadata": {
        "colab": {
          "base_uri": "https://localhost:8080/"
        },
        "id": "y2AqRZ2qoxR-",
        "outputId": "a44ce784-d4bb-4d7c-aab7-47c9a449ae52"
      },
      "execution_count": null,
      "outputs": [
        {
          "output_type": "stream",
          "name": "stdout",
          "text": [
            "None\n",
            "[1, 2, 3, 4, 4]\n"
          ]
        }
      ]
    },
    {
      "cell_type": "code",
      "source": [
        "  list = []          ## Start as the empty list\n",
        "  list.append('a')   ## Use append() to add elements\n",
        "  list.append('b')\n",
        "  print(list) #.append() adds elements to the list and when it's printed out the elements added are printed"
      ],
      "metadata": {
        "colab": {
          "base_uri": "https://localhost:8080/"
        },
        "id": "LmVTlHeOqI2_",
        "outputId": "93e6938b-64e2-4fa4-c9ae-3322c1f18d0f"
      },
      "execution_count": null,
      "outputs": [
        {
          "output_type": "stream",
          "name": "stdout",
          "text": [
            "['a', 'b']\n"
          ]
        }
      ]
    },
    {
      "cell_type": "code",
      "source": [
        "  list = ['a', 'b', 'c', 'd']\n",
        "  print(list[1:-1])   ## ['b', 'c']\n",
        "  list[0:2] = 'z'    ## replace ['a', 'b'] with ['z']\n",
        "  print(list)         ## ['z', 'c', 'd']"
      ],
      "metadata": {
        "colab": {
          "base_uri": "https://localhost:8080/"
        },
        "id": "CGteSMItqjAO",
        "outputId": "8909769a-027b-4d07-b9df-f7534e1738e1"
      },
      "execution_count": null,
      "outputs": [
        {
          "output_type": "stream",
          "name": "stdout",
          "text": [
            "['b', 'c']\n",
            "['z', 'c', 'd']\n"
          ]
        }
      ]
    }
  ]
}