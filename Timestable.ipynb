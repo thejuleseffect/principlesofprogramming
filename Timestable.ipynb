{
 "cells": [
  {
   "cell_type": "code",
   "execution_count": null,
   "id": "86146136-2468-4491-9793-8abbfb3efa18",
   "metadata": {},
   "outputs": [],
   "source": [
    "# 1. Give a guess what you think this code is going to do before you run it.\n",
    "num = int(input(\"Enter a number: \"))   #2. What do you think this line is going to do?\n",
    "\n",
    "\n",
    "print(f\"\\nTimes Table for {num}:\\n\")     #3. There is an error on this line can you find it and fix it?     \n",
    "for i in range(1, 13):                 #4. Any guess as to what this strange line is supposed to do?\n",
    "    print(f\"{num} × {i} = {num * i}\")  #5. There's an error here too. Try to fix it.\n"
   ]
  },
  {
   "cell_type": "code",
   "execution_count": null,
   "id": "e61198ea-5e59-48fc-9672-d25a356bfe19",
   "metadata": {},
   "outputs": [],
   "source": []
  }
 ],
 "metadata": {
  "kernelspec": {
   "display_name": "Python 3 (ipykernel)",
   "language": "python",
   "name": "python3"
  },
  "language_info": {
   "codemirror_mode": {
    "name": "ipython",
    "version": 3
   },
   "file_extension": ".py",
   "mimetype": "text/x-python",
   "name": "python",
   "nbconvert_exporter": "python",
   "pygments_lexer": "ipython3",
   "version": "3.9.2"
  }
 },
 "nbformat": 4,
 "nbformat_minor": 5
}
